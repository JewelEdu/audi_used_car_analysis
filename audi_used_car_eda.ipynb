{
  "nbformat": 4,
  "nbformat_minor": 0,
  "metadata": {
    "colab": {
      "name": "audi_used_car_EDA.ipynb",
      "provenance": [],
      "collapsed_sections": [],
      "toc_visible": true,
      "authorship_tag": "ABX9TyN5nteuKpxm4vT59ohiWZNM",
      "include_colab_link": true
    },
    "kernelspec": {
      "name": "python3",
      "display_name": "Python 3"
    },
    "language_info": {
      "name": "python"
    }
  },
  "cells": [
    {
      "cell_type": "markdown",
      "metadata": {
        "id": "view-in-github",
        "colab_type": "text"
      },
      "source": [
        "<a href=\"https://colab.research.google.com/gist/JewelEdu/362f2a8e0295ce4578f2923d89ef95a9/audi_used_car_eda.ipynb\" target=\"_parent\"><img src=\"https://colab.research.google.com/assets/colab-badge.svg\" alt=\"Open In Colab\"/></a>"
      ]
    },
    {
      "cell_type": "markdown",
      "source": [
        "# New Section"
      ],
      "metadata": {
        "id": "YEmiobfSAsec"
      }
    },
    {
      "cell_type": "markdown",
      "source": [
        "\n",
        "Import required libraries and Data Frame For Audi Car \n"
      ],
      "metadata": {
        "id": "nMDOjS_JA_3w"
      }
    },
    {
      "cell_type": "code",
      "source": [
        "import numpy as np\n",
        "import pandas as pd\n",
        "url = 'https://raw.githubusercontent.com/SKawsar/Data_Visualization_with_Python_s2/main/audi.csv'\n",
        "df = pd.read_csv(url)\n",
        "import matplotlib.pyplot as plt\n",
        "import seaborn as sns\n",
        "#df = pd.read_csv(\"audi.csv\")\n",
        "#print(type(df))\n",
        "#display(df.head())\n",
        "#display(df.tail())"
      ],
      "metadata": {
        "id": "wloKQ5XWBSEu"
      },
      "execution_count": null,
      "outputs": []
    },
    {
      "cell_type": "markdown",
      "source": [
        "\n",
        "Count the number of unique values present in the 'transmission' column\n"
      ],
      "metadata": {
        "id": "9_XBTswnAtr_"
      }
    },
    {
      "cell_type": "code",
      "source": [
        "print(df[\"transmission\"].value_counts())"
      ],
      "metadata": {
        "colab": {
          "base_uri": "https://localhost:8080/"
        },
        "id": "QnGCqGN96hsa",
        "outputId": "1bc0d2ca-c2da-4ef8-cab5-4c14777c2f6f"
      },
      "execution_count": 54,
      "outputs": [
        {
          "output_type": "stream",
          "name": "stdout",
          "text": [
            "Manual       4369\n",
            "Semi-Auto    3591\n",
            "Automatic    2708\n",
            "Name: transmission, dtype: int64\n"
          ]
        }
      ]
    },
    {
      "cell_type": "markdown",
      "source": [
        "Transmission values represented in Pie Chart "
      ],
      "metadata": {
        "id": "pofZn8D6CHb9"
      }
    },
    {
      "cell_type": "code",
      "source": [
        "df[\"transmission\"].value_counts().plot(kind=\"pie\",autopct='%1.2f%%')                                  \n",
        "plt.ylabel(\"\")\n",
        "plt.show()"
      ],
      "metadata": {
        "colab": {
          "base_uri": "https://localhost:8080/",
          "height": 248
        },
        "id": "WpllMyfz6tSr",
        "outputId": "c528856a-3616-4ea4-f30e-7443e1589e1c"
      },
      "execution_count": 55,
      "outputs": [
        {
          "output_type": "display_data",
          "data": {
            "image/png": "[encoded data removed]",
            "text/plain": [
              "<Figure size 432x288 with 1 Axes>"
            ]
          },
          "metadata": {}
        }
      ]
    },
    {
      "cell_type": "markdown",
      "source": [
        "Percentage of unique values present in the 'transmission' column"
      ],
      "metadata": {
        "id": "hWaioFBr9rkQ"
      }
    },
    {
      "cell_type": "code",
      "source": [
        "df_transmission = pd.DataFrame(df[\"transmission\"].value_counts())\n",
        "df_transmission = df_transmission.reset_index()\n",
        "df_transmission = df_transmission.rename(columns={\"index\":\"transmission\",\n",
        "                                          \"transmission\":\"Car_Number\"})\n",
        "\n",
        "df_transmission[\"% of cars\"] = (df_transmission[\"Car_Number\"]/df.shape[0])*100\n",
        "\n",
        "df_transmission = df_transmission.round(2)\n",
        "\n",
        "display(df_transmission)"
      ],
      "metadata": {
        "colab": {
          "base_uri": "https://localhost:8080/",
          "height": 143
        },
        "id": "YxIRk_z097nG",
        "outputId": "55713e74-5a71-4624-f7c1-c0250a2f7327"
      },
      "execution_count": 56,
      "outputs": [
        {
          "output_type": "display_data",
          "data": {
            "text/html": [
              "\n",
              "  <div id=\"df-c5d2bf75-d9a4-49a6-8b0a-5a9d2c439f2c\">\n",
              "    <div class=\"colab-df-container\">\n",
              "      <div>\n",
              "<style scoped>\n",
              "    .dataframe tbody tr th:only-of-type {\n",
              "        vertical-align: middle;\n",
              "    }\n",
              "\n",
              "    .dataframe tbody tr th {\n",
              "        vertical-align: top;\n",
              "    }\n",
              "\n",
              "    .dataframe thead th {\n",
              "        text-align: right;\n",
              "    }\n",
              "</style>\n",
              "<table border=\"1\" class=\"dataframe\">\n",
              "  <thead>\n",
              "    <tr style=\"text-align: right;\">\n",
              "      <th></th>\n",
              "      <th>transmission</th>\n",
              "      <th>Car_Number</th>\n",
              "      <th>% of cars</th>\n",
              "    </tr>\n",
              "  </thead>\n",
              "  <tbody>\n",
              "    <tr>\n",
              "      <th>0</th>\n",
              "      <td>Manual</td>\n",
              "      <td>4369</td>\n",
              "      <td>40.95</td>\n",
              "    </tr>\n",
              "    <tr>\n",
              "      <th>1</th>\n",
              "      <td>Semi-Auto</td>\n",
              "      <td>3591</td>\n",
              "      <td>33.66</td>\n",
              "    </tr>\n",
              "    <tr>\n",
              "      <th>2</th>\n",
              "      <td>Automatic</td>\n",
              "      <td>2708</td>\n",
              "      <td>25.38</td>\n",
              "    </tr>\n",
              "  </tbody>\n",
              "</table>\n",
              "</div>\n",
              "      <button class=\"colab-df-convert\" onclick=\"convertToInteractive('df-c5d2bf75-d9a4-49a6-8b0a-5a9d2c439f2c')\"\n",
              "              title=\"Convert this dataframe to an interactive table.\"\n",
              "              style=\"display:none;\">\n",
              "        \n",
              "  <svg xmlns=\"http://www.w3.org/2000/svg\" height=\"24px\"viewBox=\"0 0 24 24\"\n",
              "       width=\"24px\">\n",
              "    <path d=\"M0 0h24v24H0V0z\" fill=\"none\"/>\n",
              "    <path d=\"M18.56 5.44l.94 2.06.94-2.06 2.06-.94-2.06-.94-.94-2.06-.94 2.06-2.06.94zm-11 1L8.5 8.5l.94-2.06 2.06-.94-2.06-.94L8.5 2.5l-.94 2.06-2.06.94zm10 10l.94 2.06.94-2.06 2.06-.94-2.06-.94-.94-2.06-.94 2.06-2.06.94z\"/><path d=\"M17.41 7.96l-1.37-1.37c-.4-.4-.92-.59-1.43-.59-.52 0-1.04.2-1.43.59L10.3 9.45l-7.72 7.72c-.78.78-.78 2.05 0 2.83L4 21.41c.39.39.9.59 1.41.59.51 0 1.02-.2 1.41-.59l7.78-7.78 2.81-2.81c.8-.78.8-2.07 0-2.86zM5.41 20L4 18.59l7.72-7.72 1.47 1.35L5.41 20z\"/>\n",
              "  </svg>\n",
              "      </button>\n",
              "      \n",
              "  <style>\n",
              "    .colab-df-container {\n",
              "      display:flex;\n",
              "      flex-wrap:wrap;\n",
              "      gap: 12px;\n",
              "    }\n",
              "\n",
              "    .colab-df-convert {\n",
              "      background-color: #E8F0FE;\n",
              "      border: none;\n",
              "      border-radius: 50%;\n",
              "      cursor: pointer;\n",
              "      display: none;\n",
              "      fill: #1967D2;\n",
              "      height: 32px;\n",
              "      padding: 0 0 0 0;\n",
              "      width: 32px;\n",
              "    }\n",
              "\n",
              "    .colab-df-convert:hover {\n",
              "      background-color: #E2EBFA;\n",
              "      box-shadow: 0px 1px 2px rgba(60, 64, 67, 0.3), 0px 1px 3px 1px rgba(60, 64, 67, 0.15);\n",
              "      fill: #174EA6;\n",
              "    }\n",
              "\n",
              "    [theme=dark] .colab-df-convert {\n",
              "      background-color: #3B4455;\n",
              "      fill: #D2E3FC;\n",
              "    }\n",
              "\n",
              "    [theme=dark] .colab-df-convert:hover {\n",
              "      background-color: #434B5C;\n",
              "      box-shadow: 0px 1px 3px 1px rgba(0, 0, 0, 0.15);\n",
              "      filter: drop-shadow(0px 1px 2px rgba(0, 0, 0, 0.3));\n",
              "      fill: #FFFFFF;\n",
              "    }\n",
              "  </style>\n",
              "\n",
              "      <script>\n",
              "        const buttonEl =\n",
              "          document.querySelector('#df-c5d2bf75-d9a4-49a6-8b0a-5a9d2c439f2c button.colab-df-convert');\n",
              "        buttonEl.style.display =\n",
              "          google.colab.kernel.accessAllowed ? 'block' : 'none';\n",
              "\n",
              "        async function convertToInteractive(key) {\n",
              "          const element = document.querySelector('#df-c5d2bf75-d9a4-49a6-8b0a-5a9d2c439f2c');\n",
              "          const dataTable =\n",
              "            await google.colab.kernel.invokeFunction('convertToInteractive',\n",
              "                                                     [key], {});\n",
              "          if (!dataTable) return;\n",
              "\n",
              "          const docLinkHtml = 'Like what you see? Visit the ' +\n",
              "            '<a target=\"_blank\" href=https://colab.research.google.com/notebooks/data_table.ipynb>data table notebook</a>'\n",
              "            + ' to learn more about interactive tables.';\n",
              "          element.innerHTML = '';\n",
              "          dataTable['output_type'] = 'display_data';\n",
              "          await google.colab.output.renderOutput(dataTable, element);\n",
              "          const docLink = document.createElement('div');\n",
              "          docLink.innerHTML = docLinkHtml;\n",
              "          element.appendChild(docLink);\n",
              "        }\n",
              "      </script>\n",
              "    </div>\n",
              "  </div>\n",
              "  "
            ],
            "text/plain": [
              "  transmission  Car_Number  % of cars\n",
              "0       Manual        4369      40.95\n",
              "1    Semi-Auto        3591      33.66\n",
              "2    Automatic        2708      25.38"
            ]
          },
          "metadata": {}
        }
      ]
    },
    {
      "cell_type": "markdown",
      "source": [
        "Barplot for the 'transmission' column"
      ],
      "metadata": {
        "id": "mG2vTjrkC-ya"
      }
    },
    {
      "cell_type": "code",
      "source": [
        "sns.barplot(x=\"transmission\", \n",
        "            y=\"% of cars\", \n",
        "            data=df_transmission, \n",
        "            color=\"Blue\",\n",
        "            alpha=0.75)\n",
        "\n",
        "plt.xlabel(\"Types of transmission\")\n",
        "plt.ylabel(\"% of cars\")\n",
        "plt.title(\"Percentage of cars present in each transmission\")\n",
        "\n",
        "plt.yticks(np.arange(0,51,5))\n",
        "\n",
        "plt.show()"
      ],
      "metadata": {
        "colab": {
          "base_uri": "https://localhost:8080/",
          "height": 295
        },
        "id": "SBvvhcEM-cQ5",
        "outputId": "b46bbadb-f4af-4065-f1e4-b3cbdc6571bd"
      },
      "execution_count": 57,
      "outputs": [
        {
          "output_type": "display_data",
          "data": {
            "image/png": "[encoded data removed]",
            "text/plain": [
              "<Figure size 432x288 with 1 Axes>"
            ]
          },
          "metadata": {
            "needs_background": "light"
          }
        }
      ]
    },
    {
      "cell_type": "code",
      "source": [
        ""
      ],
      "metadata": {
        "id": "jUCJZ9Dd_Rul"
      },
      "execution_count": 57,
      "outputs": []
    },
    {
      "cell_type": "markdown",
      "source": [
        "1. Here, in pie chart, manual transmission and semi-auto transmission are almost identical and difficult to compare at a glance although there is a difference of 7 percent or more between them."
      ],
      "metadata": {
        "id": "zy8AyR0jDQ-C"
      }
    },
    {
      "cell_type": "code",
      "source": [
        ""
      ],
      "metadata": {
        "id": "9GOge8w4E1eO"
      },
      "execution_count": null,
      "outputs": []
    },
    {
      "cell_type": "markdown",
      "source": [
        "2. In my opinion, I think bar charts are more efficient in this presentation. Because in Y-ticks we can easily observe, percentages and comparisons between variables.\n"
      ],
      "metadata": {
        "id": "7R66K1tIE3Qy"
      }
    },
    {
      "cell_type": "code",
      "source": [
        ""
      ],
      "metadata": {
        "id": "LbskujECGMRU"
      },
      "execution_count": null,
      "outputs": []
    }
  ]
}